{
 "cells": [
  {
   "cell_type": "code",
   "execution_count": 1,
   "id": "f18666b4",
   "metadata": {},
   "outputs": [
    {
     "data": {
      "text/plain": [
       "'Amir Rahmani'"
      ]
     },
     "execution_count": 1,
     "metadata": {},
     "output_type": "execute_result"
    }
   ],
   "source": [
    "\"\"\"Amir Rahmani\"\"\""
   ]
  },
  {
   "cell_type": "code",
   "execution_count": 19,
   "id": "47df4e84",
   "metadata": {},
   "outputs": [],
   "source": [
    "import numpy as np\n",
    "import cv2\n",
    "import matplotlib.pyplot as plt\n",
    "from scipy.optimize import curve_fit\n",
    "import time\n",
    "import os\n",
    "import stackview"
   ]
  },
  {
   "cell_type": "code",
   "execution_count": 2,
   "id": "2b33596b",
   "metadata": {},
   "outputs": [],
   "source": [
    "def gaussianbeam(xdata, i0, x0, y0, sX, sY, amp):\n",
    "    (x, y) = xdata\n",
    "    x0 = float(x0)\n",
    "    y0 = float(y0)\n",
    "    eq =  i0+amp*np.exp(-((x-x0)**2/2/sX**2 + (y-y0)**2/2/sY**2))\n",
    "    return eq.ravel()"
   ]
  },
  {
   "cell_type": "code",
   "execution_count": 14,
   "id": "c74b4897",
   "metadata": {},
   "outputs": [],
   "source": [
    "def GCurFit(dir_path, init_guess, crop_img):\n",
    "    x_sigma = []\n",
    "    y_sigma = []\n",
    "    i_values = []\n",
    "    count = 0\n",
    "    \n",
    "    # Iterate directory\n",
    "    for path in os.listdir(dir_path):\n",
    "        # check if current path is a file\n",
    "        if os.path.isfile(os.path.join(dir_path, path)):\n",
    "            count += 1\n",
    "        # print('File count:', count)\n",
    "        \n",
    "    for i in range(1,count):\n",
    "        \n",
    "        i_values.append(i)\n",
    "        \n",
    "        stacks = dir_path+'Test'+str(i)+'.tiff'\n",
    "        img = cv2.imread(stacks)\n",
    "        if crop_img!=0:\n",
    "            img = crop_img\n",
    "        else:\n",
    "            img = cv2.cvtColor(img, cv2.COLOR_BGR2GRAY)\n",
    "        \n",
    "        im = np.asarray(img).astype(float)\n",
    "       \n",
    "        t = time.time()\n",
    "        \n",
    "        h1, w1 = im.shape\n",
    "        x, y = np.meshgrid(np.arange(w1),np.arange(h1))\n",
    "       \n",
    "        y_g = 230\n",
    "        x_g = 230\n",
    "        \n",
    "        popt, pcov = curve_fit(gaussianbeam, (x, y), im.ravel(), p0=init_guess, maxfev = 10000*2)\n",
    "        \n",
    "        init_guess.clear()\n",
    "        init_guess.append(popt)\n",
    "        \n",
    "        dd = gaussianbeam((x,y),*popt)\n",
    "        dd = dd.reshape(h1,w1)\n",
    "        \n",
    "        x_sigma.append(popt[3])\n",
    "        y_sigma.append(popt[4])\n",
    "            \n",
    "        # print(popt[3])\n",
    "        # print(popt[4])\n",
    "        \n",
    "    # Plot the curves        \n",
    "    plt.plot(i_values, x_sigma, 'r*', markersize=4, label=\"x width\")\n",
    "    plt.plot(i_values, y_sigma, 'b*', markersize=4, label=\"y width\")\n",
    "    plt.plot(i_values, np.subtract(x_sigma,y_sigma), 'kx', markersize=4)\n",
    "\n",
    "    # plt.title(\"Calibration Curve of Image Width (Astigmatic)\")\n",
    "    plt.xlabel(\"Step Numbers\")\n",
    "    plt.ylabel(\"Beam Profile Width\")\n",
    "    plt.legend()\n",
    "    plt.show()"
   ]
  },
  {
   "cell_type": "code",
   "execution_count": 15,
   "id": "1daeef60",
   "metadata": {},
   "outputs": [],
   "source": [
    "dp = r'/home/amir/Documents/Autofocus/'"
   ]
  },
  {
   "cell_type": "code",
   "execution_count": 18,
   "id": "419db25c",
   "metadata": {},
   "outputs": [
    {
     "data": {
      "image/png": "[encoded data removed]",
      "text/plain": [
       "<Figure size 640x480 with 1 Axes>"
      ]
     },
     "metadata": {},
     "output_type": "display_data"
    }
   ],
   "source": [
    "data_a = GCurFit(dp+'20230202_Thomas_CalibrationTest100mm_500Steps/', [3,340,340,320,320,150], 0)"
   ]
  },
  {
   "cell_type": "code",
   "execution_count": 17,
   "id": "bd64a8c1",
   "metadata": {},
   "outputs": [
    {
     "data": {
      "text/plain": [
       "\" \\n\\nerror: OpenCV(4.7.0) /io/opencv/modules/imgproc/src/color.cpp:182: \\nerror: (-215:Assertion failed) !_src.empty() in function 'cvtColor'\\n\\nThis a secondary error that basically just means the image you are trying to process didn't load and was empty.\\n\\n\""
      ]
     },
     "execution_count": 17,
     "metadata": {},
     "output_type": "execute_result"
    }
   ],
   "source": [
    "\"\"\" \n",
    "\n",
    "error: OpenCV(4.7.0) /io/opencv/modules/imgproc/src/color.cpp:182: \n",
    "error: (-215:Assertion failed) !_src.empty() in function 'cvtColor'\n",
    "\n",
    "This a secondary error that basically just means the image you are trying to process didn't load and was empty.\n",
    "\n",
    "\"\"\""
   ]
  },
  {
   "cell_type": "code",
   "execution_count": 20,
   "id": "68c73fd9",
   "metadata": {},
   "outputs": [
    {
     "ename": "NameError",
     "evalue": "name 'img' is not defined",
     "output_type": "error",
     "traceback": [
      "\u001b[0;31m---------------------------------------------------------------------------\u001b[0m",
      "\u001b[0;31mNameError\u001b[0m                                 Traceback (most recent call last)",
      "Cell \u001b[0;32mIn[20], line 1\u001b[0m\n\u001b[0;32m----> 1\u001b[0m \u001b[38;5;28mprint\u001b[39m(\u001b[43mimg\u001b[49m\u001b[38;5;241m.\u001b[39mshape)\n",
      "\u001b[0;31mNameError\u001b[0m: name 'img' is not defined"
     ]
    }
   ],
   "source": [
    "print(img.shape)"
   ]
  },
  {
   "cell_type": "code",
   "execution_count": null,
   "id": "70bc3c0c",
   "metadata": {},
   "outputs": [],
   "source": []
  }
 ],
 "metadata": {
  "kernelspec": {
   "display_name": "Python 3 (ipykernel)",
   "language": "python",
   "name": "python3"
  },
  "language_info": {
   "codemirror_mode": {
    "name": "ipython",
    "version": 3
   },
   "file_extension": ".py",
   "mimetype": "text/x-python",
   "name": "python",
   "nbconvert_exporter": "python",
   "pygments_lexer": "ipython3",
   "version": "3.9.12"
  }
 },
 "nbformat": 4,
 "nbformat_minor": 5
}
